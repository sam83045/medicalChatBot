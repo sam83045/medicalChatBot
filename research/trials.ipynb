{
 "cells": [
  {
   "cell_type": "code",
   "execution_count": 1,
   "metadata": {},
   "outputs": [
    {
     "name": "stdout",
     "output_type": "stream",
     "text": [
      "Ok\n"
     ]
    }
   ],
   "source": [
    "print(\"Ok\")"
   ]
  },
  {
   "cell_type": "code",
   "execution_count": 5,
   "metadata": {},
   "outputs": [
    {
     "data": {
      "text/plain": [
       "'d:\\\\repos\\\\medicalChatBot'"
      ]
     },
     "execution_count": 5,
     "metadata": {},
     "output_type": "execute_result"
    }
   ],
   "source": [
    "%pwd"
   ]
  },
  {
   "cell_type": "code",
   "execution_count": 2,
   "metadata": {},
   "outputs": [],
   "source": [
    "import os\n",
    "os.chdir(\"../\")"
   ]
  },
  {
   "cell_type": "code",
   "execution_count": 7,
   "metadata": {},
   "outputs": [],
   "source": [
    "from langchain.document_loaders import PyPDFLoader,DirectoryLoader\n",
    "from langchain.text_splitter import RecursiveCharacterTextSplitter"
   ]
  },
  {
   "cell_type": "code",
   "execution_count": 9,
   "metadata": {},
   "outputs": [],
   "source": [
    "# Extract data from PDF file\n",
    "def load_pdf_file(data):\n",
    "    loader = DirectoryLoader(data,\n",
    "                             glob=\"*.pdf\",\n",
    "                             loader_cls=PyPDFLoader)\n",
    "    \n",
    "    documents = loader.load()\n",
    "    \n",
    "    return documents"
   ]
  },
  {
   "cell_type": "code",
   "execution_count": 10,
   "metadata": {},
   "outputs": [],
   "source": [
    "extracted_data = load_pdf_file(data=\"data/\")"
   ]
  },
  {
   "cell_type": "code",
   "execution_count": 12,
   "metadata": {},
   "outputs": [],
   "source": [
    "#extracted_data"
   ]
  },
  {
   "cell_type": "code",
   "execution_count": 13,
   "metadata": {},
   "outputs": [],
   "source": [
    "def text_split(extracted_data):\n",
    "    text_splitter =RecursiveCharacterTextSplitter(chunk_size=500, chunk_overlap=20)\n",
    "    text_chunks=text_splitter.split_documents(extracted_data)\n",
    "    return text_chunks"
   ]
  },
  {
   "cell_type": "code",
   "execution_count": 14,
   "metadata": {},
   "outputs": [
    {
     "name": "stdout",
     "output_type": "stream",
     "text": [
      "Length of Text Chunks 5860\n"
     ]
    }
   ],
   "source": [
    "text_chuncks = text_split(extracted_data)\n",
    "print(\"Length of Text Chunks\",len(text_chuncks))"
   ]
  },
  {
   "cell_type": "code",
   "execution_count": 17,
   "metadata": {},
   "outputs": [],
   "source": [
    "# text_chuncks"
   ]
  },
  {
   "cell_type": "code",
   "execution_count": 18,
   "metadata": {},
   "outputs": [],
   "source": [
    "from langchain.embeddings import HuggingFaceEmbeddings"
   ]
  },
  {
   "cell_type": "code",
   "execution_count": 19,
   "metadata": {},
   "outputs": [],
   "source": [
    "def download_hugging_face_embedding():\n",
    "    embeddings = HuggingFaceEmbeddings(model_name=\"sentence-transformers/all-MiniLM-L6-v2\")\n",
    "    return embeddings"
   ]
  },
  {
   "cell_type": "code",
   "execution_count": 26,
   "metadata": {},
   "outputs": [
    {
     "name": "stderr",
     "output_type": "stream",
     "text": [
      "d:\\repos\\medicalChatBot\\.venv\\lib\\site-packages\\huggingface_hub\\file_download.py:140: UserWarning: `huggingface_hub` cache-system uses symlinks by default to efficiently store duplicated files but your machine does not support them in C:\\Users\\shoai\\.cache\\huggingface\\hub\\models--sentence-transformers--all-MiniLM-L6-v2. Caching files will still work but in a degraded version that might require more space on your disk. This warning can be disabled by setting the `HF_HUB_DISABLE_SYMLINKS_WARNING` environment variable. For more details, see https://huggingface.co/docs/huggingface_hub/how-to-cache#limitations.\n",
      "To support symlinks on Windows, you either need to activate Developer Mode or to run Python as an administrator. In order to activate developer mode, see this article: https://docs.microsoft.com/en-us/windows/apps/get-started/enable-your-device-for-development\n",
      "  warnings.warn(message)\n"
     ]
    }
   ],
   "source": [
    "embeddings = download_hugging_face_embedding()"
   ]
  },
  {
   "cell_type": "code",
   "execution_count": 28,
   "metadata": {},
   "outputs": [
    {
     "name": "stdout",
     "output_type": "stream",
     "text": [
      "length is  [-0.03447723016142845, 0.031023241579532623, 0.006735020782798529, 0.026109028607606888, -0.039362046867609024, -0.16030247509479523, 0.06692402064800262, -0.006441468372941017, -0.04745054990053177, 0.01475888304412365, 0.07087527960538864, 0.05552754923701286, 0.019193338230252266, -0.026251371949911118, -0.010109517723321915, -0.02694053389132023, 0.022307438775897026, -0.022226599976420403, -0.1496926248073578, -0.017493126913905144, 0.007676322478801012, 0.054352279752492905, 0.003254470182582736, 0.03172598034143448, -0.08462142199277878, -0.02940603718161583, 0.05159568414092064, 0.048124056309461594, -0.0033148089423775673, -0.058279216289520264, 0.041969288140535355, 0.022210724651813507, 0.1281888484954834, -0.022338956594467163, -0.011656180024147034, 0.06292832642793655, -0.03287629038095474, -0.09122608602046967, -0.03117540292441845, 0.052699580788612366, 0.0470348559319973, -0.08420306444168091, -0.03005615621805191, -0.02074478752911091, 0.009517795406281948, -0.0037217361386865377, 0.007343305740505457, 0.039324261248111725, 0.0932740867137909, -0.003788589732721448, -0.05274214968085289, -0.05805812403559685, -0.0068644010461866856, 0.0052832355722785, 0.08289297670125961, 0.019362738355994225, 0.006284520961344242, -0.010330811142921448, 0.00903236959129572, -0.03768380731344223, -0.04520609974861145, 0.024016346782445908, -0.006944183260202408, 0.013491624034941196, 0.10005494952201843, -0.0716838464140892, -0.021695060655474663, 0.03161846473813057, -0.051634613424539566, -0.08224766701459885, -0.06569328159093857, -0.009895392693579197, 0.005816400516778231, 0.07355451583862305, -0.034050311893224716, 0.0248861126601696, 0.01448807306587696, 0.026457404717803, 0.009656744077801704, 0.030217330902814865, 0.052803970873355865, -0.07535989582538605, 0.009897199459373951, 0.029836812987923622, 0.01755557768046856, 0.023092016577720642, 0.0019338455749675632, 0.0014001853996887803, -0.047175969928503036, -0.011194366030395031, -0.11420139670372009, -0.019812000915408134, 0.04026619717478752, 0.0021929836366325617, -0.07979221642017365, -0.025382323190569878, 0.09448292851448059, -0.02898116409778595, -0.14500252902507782, 0.23097743093967438, 0.02773115411400795, 0.03211146593093872, 0.03106500953435898, 0.04283282160758972, 0.06423782557249069, 0.03216322138905525, -0.004876680206507444, 0.05569946765899658, -0.03753237798810005, -0.021505627781152725, -0.028342682868242264, -0.028846928849816322, 0.0383530855178833, -0.017468692734837532, 0.052485305815935135, -0.07487601786851883, -0.03125980496406555, 0.02184153161942959, -0.03989570587873459, -0.00858711265027523, 0.02695661410689354, -0.04849547892808914, 0.011469840072095394, 0.02961825020611286, -0.020572194829583168, 0.013103912584483624, 0.02883339859545231, -3.1941990848222185e-33, 0.06478200852870941, -0.01813018135726452, 0.05178993195295334, 0.12198270857334137, 0.028780203312635422, 0.008721974678337574, -0.07052119821310043, -0.016907254233956337, 0.04073972627520561, 0.0421161949634552, 0.02544722892343998, 0.03574622794985771, -0.049144770950078964, 0.0021290958393365145, -0.015546589158475399, 0.050730619579553604, -0.04818529635667801, 0.03588061407208443, -0.004067062865942717, 0.10172473639249802, -0.05597001314163208, -0.010680998675525188, 0.011235842481255531, 0.09068653732538223, 0.004234465304762125, 0.03513862565159798, -0.00970288272947073, -0.09386522322893143, 0.0928555428981781, 0.008004955016076565, -0.007705391850322485, -0.05208674445748329, -0.01258796826004982, 0.0032668791245669127, 0.006013552658259869, 0.007581565994769335, 0.010517135262489319, -0.08634551614522934, -0.06987874209880829, -0.0025338532868772745, -0.09097656607627869, 0.04688732698559761, 0.05207650735974312, 0.007193928584456444, 0.010903569869697094, -0.005229488480836153, 0.013937355019152164, 0.021968308836221695, 0.034208547323942184, 0.060224682092666626, 0.00011663387704174966, 0.014731933362782001, -0.07008922100067139, 0.028499027714133263, -0.027601614594459534, 0.010768385604023933, 0.034830961376428604, -0.022487889975309372, 0.009769082069396973, 0.07722780853509903, 0.02158835157752037, 0.11495619267225266, -0.06800111383199692, 0.023760925978422165, -0.01598392240703106, -0.017826974391937256, 0.06439494341611862, 0.032025713473558426, 0.050270259380340576, -0.005913660395890474, -0.03370801359415054, 0.017840377986431122, 0.01657339744269848, 0.06329658627510071, 0.03467719256877899, 0.04647345095872879, 0.09790613502264023, -0.006635486148297787, 0.02520706132054329, -0.0779883936047554, 0.016926443204283714, -0.0009458480635657907, 0.022471925243735313, -0.038253188133239746, 0.09570477902889252, -0.005350769497454166, 0.010469023138284683, -0.11524050682783127, -0.013262532651424408, -0.01070939376950264, -0.08311722427606583, 0.07327356934547424, 0.04939219355583191, -0.00899438001215458, -0.09584559500217438, 3.36614782706661e-33, 0.12493178993463516, 0.019349707290530205, -0.05822576582431793, -0.03598829358816147, -0.05074677988886833, -0.04566233977675438, -0.08260347694158554, 0.148194819688797, -0.08842112123966217, 0.06027441844344139, 0.051030274480581284, 0.010303126648068428, 0.1412142515182495, 0.03081381879746914, 0.06103309988975525, -0.05285123363137245, 0.13664884865283966, 0.009189914911985397, -0.017325304448604584, -0.012848644517362118, -0.007995270192623138, -0.05098011717200279, -0.052350640296936035, 0.007593029178678989, -0.01516625378280878, 0.016960347071290016, 0.021270517259836197, 0.020557977259159088, -0.12002800405025482, 0.014461789280176163, 0.026759885251522064, 0.025330550968647003, -0.0427546501159668, 0.0067684231325984, -0.01445857249200344, 0.04526206851005554, -0.09147656708955765, -0.019439175724983215, -0.01783348247408867, -0.05491010844707489, -0.05264109745621681, -0.010459030978381634, -0.05201601982116699, 0.020892120897769928, -0.07997029274702072, -0.01211128756403923, -0.05773139372467995, 0.023178284987807274, -0.008031673729419708, -0.02598925493657589, -0.07995667308568954, -0.020728839561343193, 0.048817671835422516, -0.020389167591929436, -0.049176640808582306, 0.014159671030938625, -0.06362210959196091, -0.007807434070855379, 0.016431540250778198, -0.025682566687464714, 0.013381082564592361, 0.026248762384057045, 0.009978348389267921, 0.06322894245386124, 0.0026721099857240915, -0.00658275606110692, 0.016632014885544777, 0.03236643970012665, 0.03794253244996071, -0.036376044154167175, -0.006910949479788542, 0.0001596329384483397, -0.001633552135899663, -0.02727823704481125, -0.028038037940859795, 0.04968155175447464, -0.02886718139052391, -0.002418110379949212, 0.014774897135794163, 0.009764536283910275, 0.005797558464109898, 0.01348612830042839, 0.0055679320357739925, 0.03722710162401199, 0.007232516538351774, 0.04015625640749931, 0.08150319755077362, 0.07199163734912872, -0.013056159019470215, -0.042882055044174194, -0.011011221446096897, 0.004897822625935078, -0.009229760617017746, 0.03519144654273987, -0.051034994423389435, -1.571437557856825e-08, -0.08862442523241043, 0.02390930987894535, -0.016238732263445854, 0.03170041739940643, 0.0272841677069664, 0.05246879532933235, -0.047070953994989395, -0.058847468346357346, -0.0632082149386406, 0.04088855907320976, 0.049827929586172104, 0.10655169934034348, -0.07450231909751892, -0.012495465576648712, 0.0183706097304821, 0.03947417065501213, -0.02479786053299904, 0.014516300521790981, -0.03706922009587288, 0.020015714690089226, -4.862520290771499e-05, 0.009866534732282162, 0.024838745594024658, -0.052458059042692184, 0.029314104467630386, -0.08719195425510406, -0.014499744400382042, 0.026019077748060226, -0.01874641887843609, -0.07620516419410706, 0.035043273121118546, 0.10363949835300446, -0.028050534427165985, 0.012718254700303078, -0.07632549852132797, -0.018652409315109253, 0.024976687505841255, 0.0814453512430191, 0.06875889748334885, -0.06405661255121231, -0.08389393240213394, 0.06136239320039749, -0.03354557976126671, -0.10615336894989014, -0.04008054733276367, 0.032530225813388824, 0.07662487775087357, -0.07301614433526993, 0.00033759165671654046, -0.040871571749448776, -0.07578843086957932, 0.02752765081822872, 0.0746254250407219, 0.01771729812026024, 0.09121835231781006, 0.11022016406059265, 0.0005698329186998308, 0.05146333575248718, -0.014551276341080666, 0.03323192894458771, 0.023792274296283722, -0.02288978174328804, 0.03893756866455078, 0.030206838622689247]\n"
     ]
    }
   ],
   "source": [
    "query_results = embeddings.embed_query(\"Hello world\")\n",
    "print(\"length is \",(query_results))"
   ]
  },
  {
   "cell_type": "code",
   "execution_count": 30,
   "metadata": {},
   "outputs": [],
   "source": [
    "from pinecone.grpc import PineconeGRPC as PineCone\n",
    "from pinecone import ServerlessSpec\n",
    "from dotenv import load_dotenv\n",
    "\n",
    "load_dotenv()\n",
    "PINECONE_API_KEY = os.environ.get(\"PINECONE_API_KEY\")\n",
    "\n",
    "pc = PineCone(api_key=PINECONE_API_KEY)\n",
    "\n",
    "index_name= \"medical-chat-bot\"\n",
    "\n",
    "pc.create_index(\n",
    "    name=index_name,\n",
    "    dimension=384,\n",
    "    metric=\"cosine\",\n",
    "    spec=ServerlessSpec(\n",
    "        cloud=\"aws\",\n",
    "        region=\"us-east-1\"\n",
    "    )\n",
    ")"
   ]
  },
  {
   "cell_type": "code",
   "execution_count": 41,
   "metadata": {},
   "outputs": [],
   "source": [
    "import os\n",
    "from dotenv import load_dotenv\n",
    "load_dotenv()\n",
    "\n",
    "os.environ[\"PINECONE_API_KEY\"]= os.environ.get(\"PINECONE_API_KEY\")"
   ]
  },
  {
   "cell_type": "code",
   "execution_count": 33,
   "metadata": {},
   "outputs": [],
   "source": [
    "# Embed each chunk and upsert the embeddings into your Pinecone index\n",
    "from langchain_pinecone import PineconeVectorStore\n",
    "\n",
    "docsearch = PineconeVectorStore.from_documents(\n",
    "    documents=text_chuncks,\n",
    "    index_name=index_name,\n",
    "    embedding= embeddings\n",
    ")"
   ]
  },
  {
   "cell_type": "code",
   "execution_count": 35,
   "metadata": {},
   "outputs": [],
   "source": [
    "# Load existing index\n",
    "\n",
    "from langchain_pinecone import PineconeVectorStore\n",
    "\n",
    "# Embed each chunk and upsert the embeddings into your Pinecone index\n",
    "docsearch = PineconeVectorStore.from_existing_index(\n",
    "    index_name=index_name,\n",
    "    embedding=embeddings\n",
    ")"
   ]
  },
  {
   "cell_type": "code",
   "execution_count": 36,
   "metadata": {},
   "outputs": [
    {
     "data": {
      "text/plain": [
       "<langchain_pinecone.vectorstores.PineconeVectorStore at 0x1a4addefa60>"
      ]
     },
     "execution_count": 36,
     "metadata": {},
     "output_type": "execute_result"
    }
   ],
   "source": [
    "docsearch"
   ]
  },
  {
   "cell_type": "code",
   "execution_count": 37,
   "metadata": {},
   "outputs": [],
   "source": [
    "retriever = docsearch.as_retriever(search_type=\"similarity\",search_kwargs={\"k\":3})"
   ]
  },
  {
   "cell_type": "code",
   "execution_count": 38,
   "metadata": {},
   "outputs": [],
   "source": [
    "retriever_docs = retriever.invoke(\"What is Acne?\")"
   ]
  },
  {
   "cell_type": "code",
   "execution_count": 39,
   "metadata": {},
   "outputs": [
    {
     "data": {
      "text/plain": [
       "[Document(id='779499a8-c6ff-4919-a052-b5bf4d06b3c6', metadata={'page': 39.0, 'page_label': '40', 'source': 'data\\\\Medical_book.pdf'}, page_content='GALE ENCYCLOPEDIA OF MEDICINE 226\\nAcne\\nGEM - 0001 to 0432 - A  10/22/03 1:41 PM  Page 26'),\n",
       " Document(id='9dd9dd13-2495-447e-b2f1-228de42fb9e2', metadata={'page': 38.0, 'page_label': '39', 'source': 'data\\\\Medical_book.pdf'}, page_content='GALE ENCYCLOPEDIA OF MEDICINE 2 25\\nAcne\\nAcne vulgaris affecting a woman’s face. Acne is the general\\nname given to a skin disorder in which the sebaceous\\nglands become inflamed.(Photograph by Biophoto Associ-\\nates, Photo Researchers, Inc. Reproduced by permission.)\\nGEM - 0001 to 0432 - A  10/22/03 1:41 PM  Page 25'),\n",
       " Document(id='287b20fd-9dca-47f1-977c-42cdbb8076b2', metadata={'page': 37.0, 'page_label': '38', 'source': 'data\\\\Medical_book.pdf'}, page_content='Acidosis see Respiratory acidosis; Renal\\ntubular acidosis; Metabolic acidosis\\nAcne\\nDefinition\\nAcne is a common skin disease characterized by\\npimples on the face, chest, and back. It occurs when the\\npores of the skin become clogged with oil, dead skin\\ncells, and bacteria.\\nDescription\\nAcne vulgaris, the medical term for common acne, is\\nthe most common skin disease. It affects nearly 17 million\\npeople in the United States. While acne can arise at any')]"
      ]
     },
     "execution_count": 39,
     "metadata": {},
     "output_type": "execute_result"
    }
   ],
   "source": [
    "retriever_docs"
   ]
  },
  {
   "cell_type": "code",
   "execution_count": 54,
   "metadata": {},
   "outputs": [],
   "source": [
    "from langchain_ollama.llms import OllamaLLM\n",
    "\n",
    "llm = OllamaLLM(model=\"llama3.2\")"
   ]
  },
  {
   "cell_type": "code",
   "execution_count": 55,
   "metadata": {},
   "outputs": [],
   "source": [
    "from langchain.chains import create_retrieval_chain\n",
    "from langchain.chains.combine_documents import create_stuff_documents_chain\n",
    "from langchain_core.prompts import ChatPromptTemplate\n",
    "\n",
    "system_prompt = (\n",
    "    \"You are an assistant for question-answering tasks. \"\n",
    "    \"Use the following peices of retrieved context to answer \"\n",
    "    \"the question. If you don't know the answer, say that you \"\n",
    "    \"don't know. Use three sentences maximum and keep the answer concise.\"\n",
    "    \"\\n\\n\"\n",
    "    \"{context}\"\n",
    ")\n",
    "\n",
    "prompt = ChatPromptTemplate.from_messages(\n",
    "    [\n",
    "        (\"system\",system_prompt),\n",
    "        (\"human\",\"{input}\")\n",
    "    ]\n",
    ")"
   ]
  },
  {
   "cell_type": "code",
   "execution_count": 56,
   "metadata": {},
   "outputs": [],
   "source": [
    "question_answer_chain = create_stuff_documents_chain(llm,prompt)\n",
    "rag_chain = create_retrieval_chain(retriever,question_answer_chain)"
   ]
  },
  {
   "cell_type": "code",
   "execution_count": 67,
   "metadata": {},
   "outputs": [
    {
     "name": "stdout",
     "output_type": "stream",
     "text": [
      "I don't know what oxygen is specifically. According to the provided context, oxygen is not dissolved in the blood but instead combines with hemoglobin in red blood cells, and its amount is measured as part of the oxygen content and oxygen saturation. The value of oxygen saturation compares the actual combined oxygen with the total capacity of hemoglobin.\n"
     ]
    }
   ],
   "source": [
    "response = rag_chain.invoke({\"input\":\"What is oxygen?\"})\n",
    "print(response[\"answer\"])"
   ]
  },
  {
   "cell_type": "code",
   "execution_count": 68,
   "metadata": {},
   "outputs": [
    {
     "data": {
      "text/plain": [
       "{'input': 'Who is Gale Encyclopedia of Medicine',\n",
       " 'context': [Document(id='a1484767-871b-4a62-9f72-5f6eb6348f2e', metadata={'page': 1.0, 'page_label': '2', 'source': 'data\\\\Medical_book.pdf'}, page_content='The GALE\\nENCYCLOPEDIA\\nof MEDICINE\\nSECOND EDITION'),\n",
       "  Document(id='8906bc81-932f-4f20-a7b0-d45d59449cb7', metadata={'page': 6.0, 'page_label': '7', 'source': 'data\\\\Medical_book.pdf'}, page_content='point the reader to related entries in the encyclopedia.\\nGALE ENCYCLOPEDIA OF MEDICINE 2 IX\\nINTRODUCTION'),\n",
       "  Document(id='3f0fedc5-774c-4d38-9c7d-465d66f95f4d', metadata={'page': 7.0, 'page_label': '8', 'source': 'data\\\\Medical_book.pdf'}, page_content='• Resources section directs users to additional sources\\nof medical information on a topic.\\n• A comprehensive general index allows users to easily\\ntarget detailed aspects of any topic, including Latin\\nnames.\\nGRAPHICS\\nThe Gale Encyclopedia of Medicine 2 is enhanced\\nwith over 675 color images, including photos, charts,\\ntables, and customized line drawings.\\nGALE ENCYCLOPEDIA OF MEDICINE 2X\\nIntroduction')],\n",
       " 'answer': \"I don't know who is the author or creator of the Gale Encyclopedia of Medicine. The encyclopedia itself provides information on various medical topics, but it does not mention its originator or creators. If you are looking for more information on the author, I suggest checking related entries in the encyclopedia or searching online.\"}"
      ]
     },
     "execution_count": 68,
     "metadata": {},
     "output_type": "execute_result"
    }
   ],
   "source": [
    "response = rag_chain.invoke({\"input\":\"Who is Gale Encyclopedia of Medicine\"})\n",
    "\n",
    "response"
   ]
  }
 ],
 "metadata": {
  "kernelspec": {
   "display_name": ".venv",
   "language": "python",
   "name": "python3"
  },
  "language_info": {
   "codemirror_mode": {
    "name": "ipython",
    "version": 3
   },
   "file_extension": ".py",
   "mimetype": "text/x-python",
   "name": "python",
   "nbconvert_exporter": "python",
   "pygments_lexer": "ipython3",
   "version": "3.10.11"
  }
 },
 "nbformat": 4,
 "nbformat_minor": 2
}
